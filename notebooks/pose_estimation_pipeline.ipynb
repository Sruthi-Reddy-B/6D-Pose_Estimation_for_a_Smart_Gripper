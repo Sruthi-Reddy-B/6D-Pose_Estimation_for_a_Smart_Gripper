{
  "cells": [
    {
      "cell_type": "code",
      "source": [
        "# --- 1️⃣ Setup ---\n",
        "!pip install -q ultralytics opencv-python torch matplotlib numpy pandas scipy\n",
        "\n",
        "import cv2, os, numpy as np, pandas as pd, matplotlib.pyplot as plt\n",
        "from ultralytics import YOLO\n",
        "from scipy.spatial.transform import Rotation as R\n",
        "\n",
        "# --- 2️⃣ Prepare Synthetic Demo Data ---\n",
        "!mkdir -p data/images data/poses results/detections\n",
        "\n",
        "# download a demo image\n",
        "!wget -q https://github.com/ultralytics/assets/releases/download/v0.0.0/bus.jpg -O data/images/object_1.jpg\n",
        "\n",
        "# create dummy 6D pose labels\n",
        "pose_data = pd.DataFrame({\n",
        "    'image': ['object_1.jpg'],\n",
        "    'x': [120.5], 'y': [85.3], 'z': [0.55],  # meters\n",
        "    'roll': [10.0], 'pitch': [5.0], 'yaw': [45.0]  # degrees\n",
        "})\n",
        "pose_data.to_csv(\"data/poses/pose_labels.csv\", index=False)\n",
        "pose_data\n",
        "\n",
        "# --- 3️⃣ YOLO-based Object Detection ---\n",
        "model = YOLO('yolov8n.pt')  # pre-trained model\n",
        "results = model.predict(source='data/images/object_1.jpg', save=True, project='results/detections')\n",
        "\n",
        "# visualize detection\n",
        "img = cv2.imread('data/images/object_1.jpg')\n",
        "det_img = cv2.cvtColor(img, cv2.COLOR_BGR2RGB)\n",
        "plt.imshow(det_img)\n",
        "plt.title(\"Detected Object (YOLOv8)\")\n",
        "plt.axis('off')\n",
        "plt.show()\n",
        "\n",
        "# --- 4️⃣ Estimate 6D Pose (Simplified Concept) ---\n",
        "# we will simulate pose refinement based on bounding box center\n",
        "x, y, z = 120.5, 85.3, 0.55\n",
        "roll, pitch, yaw = 10, 5, 45\n",
        "rotation_matrix = R.from_euler('xyz', [roll, pitch, yaw], degrees=True).as_matrix()\n",
        "pose_matrix = np.hstack((rotation_matrix, np.array([[x], [y], [z]])))\n",
        "\n",
        "print(\"Estimated 6D Pose Matrix:\\n\", pose_matrix)\n",
        "\n",
        "# --- 5️⃣ Save Results ---\n",
        "os.makedirs('results/visualization', exist_ok=True)\n",
        "pose_data.to_csv('results/predicted_poses.csv', index=False)\n",
        "\n",
        "# --- 6️⃣ Visualize Orientation Axes ---\n",
        "def draw_axes(img, origin, R_mat, length=50):\n",
        "    cx, cy = int(origin[0]), int(origin[1])\n",
        "    axes = np.array([[length,0,0], [0,length,0], [0,0,length]], dtype=float)\n",
        "    colors = [(255,0,0), (0,255,0), (0,0,255)]\n",
        "    for vec, col in zip(axes, colors):\n",
        "        pt = (int(cx+vec[0]), int(cy+vec[1]))\n",
        "        cv2.line(img, (cx,cy), pt, col, 2)\n",
        "    return img\n",
        "\n",
        "img_pose = draw_axes(img.copy(), (x, y), rotation_matrix)\n",
        "plt.imshow(cv2.cvtColor(img_pose, cv2.COLOR_BGR2RGB))\n",
        "plt.title(\"Estimated Pose Visualization\")\n",
        "plt.axis('off')\n",
        "plt.show()\n"
      ],
      "metadata": {
        "id": "enHD_bjXdJau"
      },
      "id": "enHD_bjXdJau",
      "execution_count": null,
      "outputs": []
    }
  ],
  "metadata": {
    "colab": {
      "provenance": []
    },
    "language_info": {
      "name": "python"
    },
    "kernelspec": {
      "name": "python3",
      "display_name": "Python 3"
    }
  },
  "nbformat": 4,
  "nbformat_minor": 5
}